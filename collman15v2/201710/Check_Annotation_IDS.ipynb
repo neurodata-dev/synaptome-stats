{
 "cells": [
  {
   "cell_type": "code",
   "execution_count": 1,
   "metadata": {
    "collapsed": true
   },
   "outputs": [],
   "source": [
    "import argparse\n",
    "from intern.remote.boss import BossRemote\n",
    "from intern.resource.boss.resource import *\n",
    "from intern.utils.parallel import block_compute\n",
    "import configparser\n",
    "import requests\n",
    "import numpy as np\n",
    "from numpy import genfromtxt\n",
    "import shutil\n",
    "import blosc\n",
    "from IPython.core.debugger import set_trace\n",
    "import sys\n",
    "import os\n",
    "import itertools\n",
    "from functools import partial\n",
    "from multiprocessing import Pool\n",
    "from multiprocessing.dummy import Pool as ThreadPool\n",
    "from multiprocessing import cpu_count\n",
    "import csv\n",
    "import datetime\n",
    "import toolbox"
   ]
  },
  {
   "cell_type": "code",
   "execution_count": 21,
   "metadata": {
    "collapsed": true
   },
   "outputs": [],
   "source": [
    "def main(COLL_NAME, EXP_NAME, COORD_FRAME,\n",
    "         CHAN_NAMES=None, num_threads = 4, CONFIG_FILE= 'config.ini'):\n",
    "\n",
    "    bf = [5,245,245] # in z,y,x order\n",
    "\n",
    "    config = configparser.ConfigParser()\n",
    "    config.read(CONFIG_FILE)\n",
    "    TOKEN = config['Default']['token']\n",
    "    boss_url = ''.join( ( config['Default']['protocol'],'://',config['Default']['host'],'/v1/' ) )\n",
    "    #print(boss_url)\n",
    "    #'https://api.boss.neurodata.io/v1/'\n",
    "    \n",
    "    #intern\n",
    "    rem = BossRemote(CONFIG_FILE)\n",
    "\n",
    "    cf = CoordinateFrameResource(str(COLL_NAME + '_' + EXP_NAME))\n",
    "    cfr = rem.get_project(cf)\n",
    "    anno_res = ChannelResource('annotation', COLL_NAME, EXP_NAME, 'annotation', datatype='uint64')\n",
    "    \n",
    "    ex = {'x': cfr.x_stop, 'y': cfr.y_stop, 'z': cfr.z_stop}\n",
    "    \n",
    "    blocks = block_compute(0,ex['x'],0,ex['y'],0,ex['z'],\n",
    "               origin = (0,0,0), block_size = (512, 512, 16))\n",
    "\n",
    "    rid = []\n",
    "    for b in blocks:\n",
    "      rid = rid + rem.get_ids_in_region(anno_res, 0, b[0], b[1], b[2], [0,1])\n",
    "\n",
    "    u = np.unique(np.asarray(rid))\n",
    "\n",
    "    ## bounding box for annotation_i\n",
    "    #bb = [rem.get_bounding_box(anno_res, 0,ui, 'tight') for ui in u]\n",
    "#\n",
    "    #for i in range(len(bb)):\n",
    "    #    bb[i][\"id\"] = u[i]\n",
    "#\n",
    "    #A = [(rem.get_cutout(\n",
    "    #      anno_res, 0, bb[i][\"x_range\"], \n",
    "    #      bb[i][\"y_range\"], bb[i][\"z_range\"], \n",
    "    #      id_list = [bb[i]['id']]) != 0).astype(int) \n",
    "    #    for i in range(len(bb))] \n",
    "#\n",
    "    ##Bmeans = [np.int32(np.round(np.mean(np.asarray(np.where(A[i] == True)),1))) for i in range(len(A))]\n",
    "    #Bmeans = [np.int32(np.round(np.mean(np.asarray(np.where(A[i] == 1)),1))) for i in range(len(A))]\n",
    "    #\n",
    "    #Bglobal = []\n",
    "    #for i in range(len(bb)):\n",
    "    #    ad1 = np.asarray([bb[i]['z_range'][0], bb[i]['y_range'][0], bb[i]['x_range'][0]])\n",
    "    #    Bglobal.append(Bmeans[i] + ad1)\n",
    "    #    \n",
    "    #ColMin = np.asarray(bf)\n",
    "    #ColMax = np.asarray([ex['z'] - (bf[0] + 1),  # The z index is inclusive\n",
    "    #                     ex['y'] - (bf[1] + 1), \n",
    "    #                     ex['x'] - (bf[2] + 1)])\n",
    "#\n",
    "    #m = [Bglobal[i] >= ColMin for i in range(len(Bglobal))]\n",
    "    #M = [Bglobal[i] <= ColMax for i in range(len(Bglobal))]\n",
    "    #mm = [np.all(m[i]) for i in range(len(m)) ]\n",
    "    #MM = [np.all(M[i]) for i in range(len(M)) ]\n",
    "#\n",
    "    #Bcon = []\n",
    "    #con = [np.asarray(mm[j] and MM[j]) for j in range(len(mm))]\n",
    "    #for i in range(len(Bglobal)):\n",
    "    #    if con[i]: \n",
    "    #        Bcon.append(Bglobal[i])\n",
    "#\n",
    "    #loc = np.asarray(Bcon)\n",
    "    return(u)\n",
    "## END main"
   ]
  },
  {
   "cell_type": "code",
   "execution_count": 22,
   "metadata": {
    "collapsed": true
   },
   "outputs": [],
   "source": [
    "def testMain():\n",
    "    COLL_NAME      = 'collman' \n",
    "    EXP_NAME       = 'collman15v2' \n",
    "    COORD_FRAME    = 'collman_collman15v2'\n",
    "    CONFIG_FILE    = 'config.ini'\n",
    "    OUTPUT         = 'fmaxTest20171214.csv'\n",
    "\n",
    "    CHAN_NAMES = ['Synapsin647', 'VGluT1_647']\n",
    "    #CHAN_NAMES = ['DAPI1st', 'DAPI2nd', 'DAPI3rd', 'GABA488', 'GAD647',\n",
    "    #        'gephyrin594', 'GS594', 'MBP488', 'NR1594', 'PSD95_488',\n",
    "    #        'Synapsin647', 'VGluT1_647']\n",
    "    #CHAN_NAMES = ['synapsin', 'PSDr'] \n",
    "\n",
    "    Bcon  = main(COLL_NAME, EXP_NAME, COORD_FRAME,\n",
    "         CHAN_NAMES=CHAN_NAMES, num_threads = 6, CONFIG_FILE= 'config.ini')\n",
    "\n",
    "    return(Bcon)\n",
    "## End testMain   "
   ]
  },
  {
   "cell_type": "code",
   "execution_count": 23,
   "metadata": {
    "collapsed": true
   },
   "outputs": [],
   "source": [
    "Bcon = testMain() "
   ]
  },
  {
   "cell_type": "code",
   "execution_count": 24,
   "metadata": {},
   "outputs": [
    {
     "data": {
      "text/plain": [
       "236"
      ]
     },
     "execution_count": 24,
     "metadata": {},
     "output_type": "execute_result"
    }
   ],
   "source": [
    "len(Bcon)"
   ]
  },
  {
   "cell_type": "code",
   "execution_count": 25,
   "metadata": {},
   "outputs": [
    {
     "data": {
      "text/plain": [
       "array([  1,   2,   3,   4,   5,   6,   7,   8,   9,  10,  11,  12,  13,\n",
       "        14,  15,  16,  17,  19,  20,  21,  22,  23,  24,  25,  26,  27,\n",
       "        28,  29,  30,  31,  32,  33,  34,  35,  36,  37,  38,  39,  40,\n",
       "        41,  42,  43,  44,  45,  46,  47,  48,  49,  50,  51,  52,  53,\n",
       "        54,  55,  56,  57,  58,  59,  60,  61,  62,  63,  64,  65,  66,\n",
       "        67,  68,  69,  70,  71,  72,  73,  74,  75,  76,  77,  78,  79,\n",
       "        80,  81,  82,  83,  84,  85,  86,  87,  88,  89,  90,  91,  92,\n",
       "        93,  94,  95,  96,  97,  98,  99, 100, 101, 102, 103, 104, 105,\n",
       "       106, 107, 108, 109, 110, 111, 112, 113, 114, 115, 116, 117, 118,\n",
       "       119, 120, 121, 122, 123, 124, 125, 126, 127, 128, 129, 130, 131,\n",
       "       132, 133, 134, 135, 136, 137, 138, 139, 140, 141, 142, 143, 144,\n",
       "       145, 146, 147, 148, 149, 150, 151, 152, 153, 154, 155, 156, 157,\n",
       "       158, 159, 160, 161, 162, 163, 164, 165, 166, 167, 168, 169, 170,\n",
       "       171, 172, 173, 174, 175, 176, 177, 178, 179, 180, 181, 182, 183,\n",
       "       184, 185, 186, 187, 188, 189, 190, 191, 192, 193, 194, 195, 196,\n",
       "       197, 198, 199, 200, 201, 202, 203, 204, 205, 206, 207, 208, 209,\n",
       "       210, 211, 212, 213, 214, 215, 216, 217, 218, 219, 220, 221, 222,\n",
       "       223, 224, 225, 226, 227, 228, 229, 230, 231, 232, 233, 234, 235,\n",
       "       236, 237])"
      ]
     },
     "execution_count": 25,
     "metadata": {},
     "output_type": "execute_result"
    }
   ],
   "source": [
    "Bcon"
   ]
  },
  {
   "cell_type": "code",
   "execution_count": null,
   "metadata": {
    "collapsed": true
   },
   "outputs": [],
   "source": []
  }
 ],
 "metadata": {
  "kernelspec": {
   "display_name": "Python 3",
   "language": "python",
   "name": "python3"
  },
  "language_info": {
   "codemirror_mode": {
    "name": "ipython",
    "version": 3
   },
   "file_extension": ".py",
   "mimetype": "text/x-python",
   "name": "python",
   "nbconvert_exporter": "python",
   "pygments_lexer": "ipython3",
   "version": "3.6.1"
  }
 },
 "nbformat": 4,
 "nbformat_minor": 2
}
