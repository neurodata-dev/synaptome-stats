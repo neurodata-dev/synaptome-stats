{
 "cells": [
  {
   "cell_type": "markdown",
   "metadata": {},
   "source": [
    "# Tight Annotation Analysis on the collman15v2 data\n",
    "\n",
    "From the collman15v2 annotation data we find all the unique identifiers and for each id we grab the pixels that have been annotated sum them and divide by the number of pixels.\n",
    "\n",
    "The results are saved to a csv file. "
   ]
  },
  {
   "cell_type": "code",
   "execution_count": 36,
   "metadata": {},
   "outputs": [
    {
     "data": {
      "text/plain": [
       "<module 'annoTightAll' from '/Users/JLP/neurodata-dev/synaptome-stats/collman15v2/201710/annoTightAll.py'>"
      ]
     },
     "execution_count": 36,
     "metadata": {},
     "output_type": "execute_result"
    }
   ],
   "source": [
    "import importlib \n",
    "import numpy as np\n",
    "import toolbox\n",
    "import annoTightAll\n",
    "import h5py\n",
    "importlib.reload(toolbox)\n",
    "importlib.reload(annoTightAll)"
   ]
  },
  {
   "cell_type": "code",
   "execution_count": 104,
   "metadata": {},
   "outputs": [],
   "source": [
    "COLL_NAME      = 'collman' \n",
    "EXP_NAME       = 'collman15v2' \n",
    "ANNO_NAME      = 'annotation' \n",
    "COORD_FRAME    = 'collman_collman15v2'\n",
    "CONFIG_FILE    = 'config.ini'\n",
    "OUTPUT         = 'test20171211.csv'\n",
    "\n",
    "CHAN_NAMES = ['DAPI1st', 'DAPI2nd', 'DAPI3rd', 'GABA488', 'GAD647',\n",
    "        'gephyrin594', 'GS594', 'MBP488', 'NR1594', 'PSD95_488',\n",
    "        'Synapsin647', 'VGluT1_647']"
   ]
  },
  {
   "cell_type": "code",
   "execution_count": 45,
   "metadata": {},
   "outputs": [
    {
     "name": "stdout",
     "output_type": "stream",
     "text": [
      "DAPI1st\n",
      "DAPI2nd\n",
      "DAPI3rd\n",
      "GABA488\n",
      "GAD647\n",
      "gephyrin594\n",
      "GS594\n",
      "MBP488\n",
      "NR1594\n",
      "PSD95_488\n",
      "Synapsin647\n",
      "VGluT1_647\n"
     ]
    }
   ],
   "source": [
    "cubes, loc, F0, nonzeros, ids = annoTightAll.main(COLL_NAME, EXP_NAME, COORD_FRAME,\n",
    "     CHAN_NAMES=CHAN_NAMES, ANNO_NAME = ANNO_NAME, num_threads = 6, CONFIG_FILE= 'config.ini')"
   ]
  },
  {
   "cell_type": "code",
   "execution_count": 105,
   "metadata": {},
   "outputs": [],
   "source": [
    "F0w = np.divide(F0, nonzeros)"
   ]
  },
  {
   "cell_type": "code",
   "execution_count": 106,
   "metadata": {},
   "outputs": [],
   "source": [
    "toolbox.mainOUT(F0w, CHAN_NAMES, OUTPUT)"
   ]
  },
  {
   "cell_type": "code",
   "execution_count": null,
   "metadata": {},
   "outputs": [],
   "source": [
    "#toolbox.toh5(EXP_NAME, OUTPUT + '.h5', CHAN_NAMES, cubes, loc)"
   ]
  }
 ],
 "metadata": {
  "kernelspec": {
   "display_name": "Python 3",
   "language": "python",
   "name": "python3"
  },
  "language_info": {
   "codemirror_mode": {
    "name": "ipython",
    "version": 3
   },
   "file_extension": ".py",
   "mimetype": "text/x-python",
   "name": "python",
   "nbconvert_exporter": "python",
   "pygments_lexer": "ipython3",
   "version": "3.6.1"
  }
 },
 "nbformat": 4,
 "nbformat_minor": 2
}
