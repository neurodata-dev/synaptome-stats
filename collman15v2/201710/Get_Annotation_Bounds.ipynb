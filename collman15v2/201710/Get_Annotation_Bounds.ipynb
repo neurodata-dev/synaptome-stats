{
 "cells": [
  {
   "cell_type": "code",
   "execution_count": 1,
   "metadata": {
    "collapsed": true
   },
   "outputs": [],
   "source": [
    "import argparse\n",
    "from intern.remote.boss import BossRemote\n",
    "from intern.resource.boss.resource import *\n",
    "from intern.utils.parallel import block_compute\n",
    "import configparser\n",
    "import requests\n",
    "import numpy as np\n",
    "from numpy import genfromtxt\n",
    "import shutil\n",
    "import blosc\n",
    "from IPython.core.debugger import set_trace\n",
    "import sys\n",
    "import os\n",
    "import itertools\n",
    "from functools import partial\n",
    "from multiprocessing import Pool\n",
    "from multiprocessing.dummy import Pool as ThreadPool\n",
    "from multiprocessing import cpu_count\n",
    "import csv\n",
    "import datetime"
   ]
  },
  {
   "cell_type": "code",
   "execution_count": 3,
   "metadata": {
    "collapsed": true
   },
   "outputs": [],
   "source": [
    "def getData(di):\n",
    "    data = di['rem'].get_cutout(di['ch_rsc'], di['res'], di['xrng'],\n",
    "          di['yrng'] ,di['zrng'])\n",
    "    out = data[di['mask']]\n",
    "    return(out)\n",
    "\n",
    "\n",
    "def getCentroid(box):\n",
    "    m = np.asarray(box == True) \n",
    "    avg = np.int(np.round(np.mean(m,1)))\n",
    "    return(avg)\n",
    "\n"
   ]
  },
  {
   "cell_type": "code",
   "execution_count": 2,
   "metadata": {
    "collapsed": true
   },
   "outputs": [],
   "source": [
    "COLL_NAME      = 'collman'\n",
    "EXP_NAME       = 'collman15v2'\n",
    "COORD_FRAME    = 'collman_collman15v2' \n",
    "OUTPUT         = 'output.txt'\n",
    "CONFIG_FILE    = 'config.ini'\n",
    "\n",
    "rem = BossRemote(CONFIG_FILE)\n",
    "\n",
    "#CHAN_NAMES = rem.list_channels(COLL_NAME, EXP_NAME) \n",
    "CHAN_NAMES = ['DAPI1st', 'DAPI2nd', 'DAPI3rd', 'GABA488', 'GAD647',\n",
    "              'gephyrin594', 'GS594', 'MBP488', 'NR1594', 'PSD95_488',\n",
    "              'Synapsin647', 'VGluT1_647']\n"
   ]
  },
  {
   "cell_type": "code",
   "execution_count": 3,
   "metadata": {
    "collapsed": true
   },
   "outputs": [],
   "source": [
    "#def main(COLL_NAME, EXP_NAME, COORD_FRAME,\n",
    "#         CHAN_NAMES=None, num_threads = 4, CONFIG_FILE= 'config.ini'):\n",
    "\n",
    "bf = 5\n",
    "\n",
    "config = configparser.ConfigParser()\n",
    "config.read(CONFIG_FILE)\n",
    "TOKEN = config['Default']['token']\n",
    "boss_url = ''.join( ( config['Default']['protocol'],'://',config['Default']['host'],'/v1/' ) )\n",
    "#print(boss_url)\n",
    "#'https://api.boss.neurodata.io/v1/'\n",
    "\n",
    "#intern\n",
    "rem = BossRemote(CONFIG_FILE)\n",
    "\n",
    "cf = CoordinateFrameResource(str(COLL_NAME + '_' + EXP_NAME))\n",
    "cfr = rem.get_project(cf)\n",
    "anno_res = ChannelResource('annotation', COLL_NAME, EXP_NAME, 'annotation', datatype='uint64')\n",
    "\n",
    "ex = {'x': cfr.x_stop, 'y': cfr.y_stop, 'z': cfr.z_stop}\n",
    "\n",
    "blocks = block_compute(0,ex['x'],0,ex['y'],0,ex['z'], origin = (0,0,0), block_size = (512, 512, 16))\n",
    "\n",
    "rid = []\n",
    "for b in blocks:\n",
    "    rid = rid + rem.get_ids_in_region(anno_res, 0, b[0], b[1], b[2], [0,1])\n",
    "\n",
    "u = np.unique(np.asarray(rid))\n",
    "\n",
    "bb = [rem.get_bounding_box(anno_res, 0,ui, 'tight') for ui in u]\n",
    "\n",
    "for i in range(len(bb)):\n",
    "    bb[i][\"id\"] = u[i]\n",
    "\n",
    "#    npbb = np.asarray(bb)\n",
    "#    bbMax = np.maximum(bb)\n",
    "#    print(\"Bounding Box max \" + bbMax)\n",
    "#\n",
    "#    A = [rem.get_cutout(anno_res, 0, bb[i][\"x_range\"], bb[i][\"y_range\"],\n",
    "#                        bb[i][\"z_range\"], id_list = [bb[i]['id']]) != 0 for i\n",
    "#                        in range(len(bb))]\n",
    "#\n",
    "##    return(bb)"
   ]
  },
  {
   "cell_type": "code",
   "execution_count": 4,
   "metadata": {},
   "outputs": [
    {
     "data": {
      "text/plain": [
       "236"
      ]
     },
     "execution_count": 4,
     "metadata": {},
     "output_type": "execute_result"
    }
   ],
   "source": [
    "len(bb)\n",
    "#bb = main(COLL_NAME, EXP_NAME, COORD_FRAME, \n",
    "#                       CHAN_NAMES=CHAN_NAMES, \n",
    "#                       num_threads = 4, CONFIG_FILE= CONFIG_FILE)\n",
    "#"
   ]
  },
  {
   "cell_type": "code",
   "execution_count": 16,
   "metadata": {
    "collapsed": true
   },
   "outputs": [],
   "source": [
    "A = [np.int32(rem.get_cutout(anno_res, 0, bb[i][\"x_range\"], bb[i][\"y_range\"],\n",
    "    bb[i][\"z_range\"], id_list = [bb[i]['id']])) != 0 for i in range(len(bb))]"
   ]
  },
  {
   "cell_type": "code",
   "execution_count": 19,
   "metadata": {},
   "outputs": [
    {
     "data": {
      "text/plain": [
       "array([[[False, False, False, ..., False, False, False],\n",
       "        [False, False, False, ..., False, False, False],\n",
       "        [False, False, False, ..., False, False, False],\n",
       "        ..., \n",
       "        [False, False, False, ..., False, False, False],\n",
       "        [False, False, False, ..., False, False, False],\n",
       "        [False, False, False, ..., False, False, False]],\n",
       "\n",
       "       [[False, False, False, ..., False, False, False],\n",
       "        [False, False, False, ..., False, False, False],\n",
       "        [False, False, False, ..., False, False, False],\n",
       "        ..., \n",
       "        [False, False, False, ..., False, False, False],\n",
       "        [False, False, False, ..., False, False, False],\n",
       "        [False, False, False, ..., False, False, False]],\n",
       "\n",
       "       [[False, False, False, ..., False, False, False],\n",
       "        [False, False, False, ..., False, False, False],\n",
       "        [False, False, False, ..., False, False, False],\n",
       "        ..., \n",
       "        [False, False, False, ..., False, False, False],\n",
       "        [False, False, False, ..., False, False, False],\n",
       "        [False, False, False, ..., False, False, False]],\n",
       "\n",
       "       [[False, False, False, ..., False, False, False],\n",
       "        [False, False, False, ..., False, False, False],\n",
       "        [False, False, False, ..., False, False, False],\n",
       "        ..., \n",
       "        [False, False, False, ..., False, False, False],\n",
       "        [False, False, False, ..., False, False, False],\n",
       "        [False, False, False, ..., False, False, False]]], dtype=bool)"
      ]
     },
     "execution_count": 19,
     "metadata": {},
     "output_type": "execute_result"
    }
   ],
   "source": [
    "A[0]"
   ]
  },
  {
   "cell_type": "code",
   "execution_count": 8,
   "metadata": {
    "collapsed": true
   },
   "outputs": [],
   "source": [
    "bbx = np.asarray([bb[i]['x_range'][1] - bb[i]['x_range'][0] for i in range(len(bb))])\n",
    "bby = np.asarray([bb[i]['y_range'][1] - bb[i]['y_range'][0] for i in range(len(bb))])\n",
    "bbz = np.asarray([bb[i]['z_range'][1] - bb[i]['z_range'][0] for i in range(len(bb))])"
   ]
  },
  {
   "cell_type": "code",
   "execution_count": 9,
   "metadata": {},
   "outputs": [
    {
     "data": {
      "text/plain": [
       "[345, 366, 14]"
      ]
     },
     "execution_count": 9,
     "metadata": {},
     "output_type": "execute_result"
    }
   ],
   "source": [
    "[np.max(bbx), np.max(bby), np.max(bbz)]"
   ]
  },
  {
   "cell_type": "code",
   "execution_count": 10,
   "metadata": {},
   "outputs": [
    {
     "data": {
      "text/plain": [
       "(array([82]),)"
      ]
     },
     "execution_count": 10,
     "metadata": {},
     "output_type": "execute_result"
    }
   ],
   "source": [
    "np.where(bbz == 14)"
   ]
  },
  {
   "cell_type": "code",
   "execution_count": null,
   "metadata": {
    "collapsed": true
   },
   "outputs": [],
   "source": [
    "ChanList = []\n",
    "\n",
    "## For getting masked bounding box around centroid of annotation\n",
    "for ch in CHAN_NAMES:\n",
    "    di = [{\n",
    "          'rem': rem,\n",
    "          'ch_rsc':\n",
    "            ChannelResource(ch,COLL_NAME,EXP_NAME,'image',datatype='uint8'),\n",
    "          'ch'  : ch,\n",
    "          'res' : 0,\n",
    "          'xrng': [Bcon[i][2] - bf[2], Bcon[i][2] + bf[2] + 1], \n",
    "          'yrng': [Bcon[i][1] - bf[1], Bcon[i][1] + bf[1] + 1], \n",
    "          'zrng': [Bcon[i][0] - bf[0], Bcon[i][0] + bf[0] + 1], \n",
    "          'mask': AA[i]\n",
    "         } for i in range(len(Bcon))]\n",
    "    with ThreadPool(num_threads) as tp:\n",
    "        out = tp.map(toolbox.getMaskDataT, di)\n",
    "        print(ch) ## STATUS\n",
    "        sys.stdout.flush() ## STATUS\n",
    "    ChanList.append(np.asarray(out))\n",
    "\n",
    "cubes = np.asarray(ChanList)\n",
    "loc = np.asarray(Bcon)\n",
    "nonzeros = [np.sum(ai) for ai in AA]\n",
    "ids = [conID for i in range(len(conID))]\n",
    "\n"
   ]
  }
 ],
 "metadata": {
  "kernelspec": {
   "display_name": "Python 3",
   "language": "python",
   "name": "python3"
  },
  "language_info": {
   "codemirror_mode": {
    "name": "ipython",
    "version": 3
   },
   "file_extension": ".py",
   "mimetype": "text/x-python",
   "name": "python",
   "nbconvert_exporter": "python",
   "pygments_lexer": "ipython3",
   "version": "3.6.1"
  }
 },
 "nbformat": 4,
 "nbformat_minor": 2
}
