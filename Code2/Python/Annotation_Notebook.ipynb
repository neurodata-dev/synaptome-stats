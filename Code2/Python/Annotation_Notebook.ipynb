{
 "cells": [
  {
   "cell_type": "markdown",
   "metadata": {},
   "source": [
    "# Annotation upload tool\n",
    "## Jesse Leigh Patsolic For NeuroData\n",
    "### 2017 <jpatsol1@jhu.edu>\n",
    "Started from a file made by Alex Baden \n",
    "\n",
    "NB: This uses python3.  \n",
    "Starting from a csv file of locations to be annotated (in x,y,z column format) we create a black image of the specified dimensions and for each location we write a ball (under a specified metric, either infinity or $\\ell$2),"
   ]
  },
  {
   "cell_type": "markdown",
   "metadata": {},
   "source": [
    "| positional arguments | |\n",
    "|-------------|---------|\n",
    "| base_path   | system path where you want output images saved|\n",
    "| base_fname  | base output filename |\n",
    "| locations   | centroids in x y z csv file|\n",
    "| dim         | dimensions of full image |\n",
    "| buf(fer)    | buffer in x, y, and z directions |\n",
    "| inftyball   | (bool) draw annotations as infinity balls with radii buf[0], buf[1], buf[2] |\n",
    "| l2ball      | (bool) draw annotations as l2-balls with radius buf[0] |"
   ]
  },
  {
   "cell_type": "code",
   "execution_count": 1,
   "metadata": {
    "collapsed": true
   },
   "outputs": [],
   "source": [
    "import itertools\n",
    "import configparser\n",
    "import csv\n",
    "import morton\n",
    "import sys\n",
    "import os\n",
    "import numpy as np \n",
    "import requests\n",
    "import argparse\n",
    "import time\n",
    "import tifffile\n",
    "\n",
    "from numpy import genfromtxt\n",
    "from numpy import linalg as LA\n",
    "from PIL import Image "
   ]
  },
  {
   "cell_type": "markdown",
   "metadata": {},
   "source": [
    "# Functions"
   ]
  },
  {
   "cell_type": "code",
   "execution_count": 2,
   "metadata": {
    "collapsed": true
   },
   "outputs": [],
   "source": [
    "def mask_l2ball(BF):\n",
    "    a = np.zeros((2 * BF + 1, 2 * BF + 1, 2 * BF + 1))\n",
    "    for i in range(a.shape[0]):\n",
    "        for j in range(a.shape[1]):\n",
    "            for k in range(a.shape[2]):\n",
    "                if LA.norm(np.asarray([k - BF, j - BF, i - BF])) <= BF:\n",
    "                    a[k,j,i] = 1\n",
    "                    \n",
    "    out = np.asarray(a, dtype = np.uint8)\n",
    "    return(out)\n",
    "\n",
    "def main(base_path, base_fname, locations, dim, buf = [5,5,5], inftyball = False, l2ball = False):\n",
    "    #parser = argparse.ArgumentParser('Post rectangular annotations stack to the boss')\n",
    "    #parser.add_argument('locations', type=str, help='centroids in x y z csv file')\n",
    "    #parser.add_argument('base_path', type=str, help='Directory where image stacks are to be saved (e.g. \"/data/images/\"')\n",
    "    #parser.add_argument('base_filename', type=str, help='Base filename with z values appended \"fname_z<p:4>\"')\n",
    "    #parser.add_argument('--buf', type=int, nargs=3, help='buffer in x y z', default=[5,5,5])\n",
    "    #parser.add_argument('--dim', type=int, nargs=3, help='dimensions in x y z')\n",
    "    #parser.add_argument('--res', type=int, default=0, help='Resolution at which we post data.')\n",
    "    #parser.add_argument('--inftyball', action='store', type=bool, default=False, help='bool to use infinity balls.')\n",
    "    #parser.add_argument('--l2ball', action='store', type=bool, default=False, help='bool to use l2 balls, only uses buf[0].')\n",
    "\n",
    "    #args = parser.parse_args()\n",
    "\n",
    "    base_path\n",
    "    base_fname\n",
    "\n",
    "    dimx = dim[0]\n",
    "    dimy = dim[1]\n",
    "    dimz = dim[2]\n",
    "    loc = locations\n",
    "    \n",
    "    L = genfromtxt(loc,  delimiter=',', skip_header = 1, dtype='int32').tolist()\n",
    "    \n",
    "    BFx = buf[0] \n",
    "    BFy = buf[1]\n",
    "    BFz = buf[2]\n",
    "\n",
    "    x_rng = [[x[0] - BFx, x[0] + BFx + 1] for x in L] \n",
    "    y_rng = [[y[1] - BFy, y[1] + BFy + 1] for y in L] \n",
    "    z_rng = [[z[2] - BFz, z[2] + BFz + 1] for z in L]\n",
    "\n",
    "    inftyones = np.ones((2 * BFz + 1, 2 * BFy + 1, 2 * BFx + 1), dtype = np.uint8)\n",
    "\n",
    "    if inftyball:\n",
    "        anno = np.asarray(255*inftyones, dtype = np.uint8)\n",
    "        ## NUMPY array must be in Z Y X order for the BOSS\n",
    "    \n",
    "        z = np.zeros((dimz,dimy,dimx), dtype = np.uint8)\n",
    "    \n",
    "        for i in range(len(L)):\n",
    "            z[z_rng[i][0]:z_rng[i][1],y_rng[i][0]:y_rng[i][1],x_rng[i][0]:x_rng[i][1]] = anno\n",
    "\n",
    "        fout = os.path.join(base_path, base_fname)\n",
    "\n",
    "        for j in range(z.shape[0]):\n",
    "            tmp = fout + \"_z{}.tif\".format(str(j).zfill(len(str(z.shape[0]))))\n",
    "            tifffile.imsave(tmp, np.asarray(z[j,:,:], dtype = np.uint8))\n",
    "\n",
    "        tifffile.imsave(fout + \"_stack.tif\", np.asarray(z, dtype = np.uint8))\n",
    "        print(\"Test image is here: {}\".format(base_path))\n",
    "\n",
    "    if l2ball:\n",
    "        anno = 255*mask_l2ball(BFx) \n",
    "        z = np.zeros((dimz,dimy,dimx), dtype = np.uint8)\n",
    "    \n",
    "        for i in range(len(L)):\n",
    "            rep = anno == 255\n",
    "            z[z_rng[i][0]:z_rng[i][1],y_rng[i][0]:y_rng[i][1],x_rng[i][0]:x_rng[i][1]][rep] = 255\n",
    "            \n",
    "        fout = os.path.join(base_path, base_fname)\n",
    "\n",
    "        for j in range(z.shape[0]):\n",
    "            tmp = fout + \"_z{}.tif\".format(str(j).zfill(len(str(z.shape[0]))))\n",
    "            tifffile.imsave(tmp, np.asarray(z[j,:,:], dtype = np.uint8))\n",
    "\n",
    "        tifffile.imsave(fout + \"_stack.tif\", np.asarray(z, dtype = np.uint8))\n",
    "        print(\"Test image is here: {}\".format(base_path))\n",
    "\n",
    "    return(None)"
   ]
  },
  {
   "cell_type": "markdown",
   "metadata": {},
   "source": [
    "# Small test example"
   ]
  },
  {
   "cell_type": "code",
   "execution_count": 12,
   "metadata": {
    "scrolled": false
   },
   "outputs": [
    {
     "name": "stdout",
     "output_type": "stream",
     "text": [
      "Test image is here: /tmp/\n"
     ]
    }
   ],
   "source": [
    "import urllib.request\n",
    "\n",
    "base_path = \"/tmp/\"\n",
    "base_fname = \"testEx2R18C1\"\n",
    "locations = \"Ex2R18C1_BufferedPM5.csv\"\n",
    "buf = [5,5,5] # X, Y, Z order\n",
    "dim = [2101, 3223, 69] # X, Y, Z order\n",
    "res = 0\n",
    "\n",
    "#url = 'http://cis.jhu.edu/~jesse/data/Ex2R18C1_buff5seed317_samp1e4.csv'\n",
    "#response = urllib.request.urlopen(url)\n",
    "#data = response.read()      # a `bytes` object\n",
    "#locations = response #.decode('utf-8') # a `str`; this step\n",
    "\n",
    "#main(base_path, base_fname, locations, dim, buf, inftyball = True, l2ball = False)\n",
    "main(base_path, base_fname, locations, dim, buf, inftyball = False, l2ball = True)"
   ]
  },
  {
   "cell_type": "code",
   "execution_count": null,
   "metadata": {},
   "outputs": [],
   "source": []
  },
  {
   "cell_type": "code",
   "execution_count": null,
   "metadata": {
    "collapsed": true
   },
   "outputs": [],
   "source": []
  }
 ],
 "metadata": {
  "kernelspec": {
   "display_name": "Python 3",
   "language": "python",
   "name": "python3"
  },
  "language_info": {
   "codemirror_mode": {
    "name": "ipython",
    "version": 3
   },
   "file_extension": ".py",
   "mimetype": "text/x-python",
   "name": "python",
   "nbconvert_exporter": "python",
   "pygments_lexer": "ipython3",
   "version": "3.6.1"
  }
 },
 "nbformat": 4,
 "nbformat_minor": 2
}
