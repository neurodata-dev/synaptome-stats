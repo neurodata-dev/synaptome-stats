{
 "cells": [
  {
   "cell_type": "code",
   "execution_count": 1,
   "metadata": {
    "collapsed": true
   },
   "outputs": [],
   "source": [
    "import numpy as np\n",
    "import tifffile as tiff\n",
    "import matplotlib.pyplot as plt\n",
    "from skimage.measure import label\n",
    "f = 'NOMADS_resample.tif'"
   ]
  },
  {
   "cell_type": "code",
   "execution_count": 2,
   "metadata": {
    "collapsed": true
   },
   "outputs": [],
   "source": [
    "\n",
    "def bounding_box(img):\n",
    "    \"\"\"\n",
    "    Returns the z, y, x vectors that create a bounding box\n",
    "    of a mask.\n",
    "    \"\"\"\n",
    "    z = np.any(img, axis=(1, 2))\n",
    "    y = np.any(img, axis=(0, 2))\n",
    "    x = np.any(img, axis=(0, 1))\n",
    "\n",
    "    zmin, zmax = np.where(z)[0][[0, -1]]\n",
    "    ymin, ymax = np.where(y)[0][[0, -1]]\n",
    "    xmin, xmax = np.where(x)[0][[0, -1]]\n",
    "\n",
    "    return (zmin, zmax + 1), (ymin, ymax + 1), (xmin, xmax + 1)\n",
    "\n",
    "\n",
    "def get_uniques(ar):\n",
    "    \"\"\"\n",
    "    Returns an ordered numpy array of unique integers in an array.\n",
    "    This runs about four times faster than numpy.unique().\n",
    "    Parameters\n",
    "    ----------\n",
    "    ar : array_like\n",
    "        Input array. This will be flattened.\n",
    "    Returns\n",
    "    -------\n",
    "    uniques : ndarray\n",
    "        The sorted unique values.\n",
    "    \"\"\"\n",
    "    bins = np.zeros(np.max(ar) + 1, dtype=int)\n",
    "    bins[ar.ravel()] = 1\n",
    "    uniques = np.nonzero(bins)[0]\n",
    "\n",
    "    return uniques\n",
    "\n",
    "\n",
    "def get_unique_overlap(foreground, background, i):\n",
    "    '''\n",
    "    Calculates the number of unique background labels in the foreground at i\n",
    "    Does not count background label of 0\n",
    "    '''\n",
    "    z, y, x = bounding_box(foreground == i)\n",
    "\n",
    "    foreground = foreground[z[0]:z[1], y[0]:y[1], x[0]:x[1]]\n",
    "    background = background[z[0]:z[1], y[0]:y[1], x[0]:x[1]]\n",
    "\n",
    "    overlaps = np.multiply((foreground == i), background)\n",
    "    uniques = get_uniques(overlaps)\n",
    "\n",
    "    num_unique = len(uniques)\n",
    "\n",
    "    #0 is background label\n",
    "    #should not count as a detection if\n",
    "    #the prediction overlaps with the background\n",
    "    if 0 in uniques:\n",
    "        num_unique -= 1\n",
    "\n",
    "    return num_unique\n",
    "\n",
    "\n",
    "def compute_overlap_array(predictions, gt, compare_annotations=False):\n",
    "    \"\"\"\n",
    "    When comparing two annotation volumes, set compare_annotations to True.\n",
    "    \"\"\"\n",
    "    if not compare_annotations:\n",
    "        predictions = label(predictions)\n",
    "        prediction_uniques = get_uniques(predictions)[1:]\n",
    "    elif compare_annotations:\n",
    "        prediction_uniques = get_uniques(predictions)[1:]\n",
    "\n",
    "    gt_uniques = get_uniques(gt)[1:]\n",
    "\n",
    "    #first, look at how many unique predictions\n",
    "    #overlap with a single gt synapse\n",
    "    predictionPerGt = [get_unique_overlap(gt, predictions, i)\n",
    "                       for i in gt_uniques]\n",
    "\n",
    "    #next, look at how many unique synapses overlap\n",
    "    #with a single synapse prediction\n",
    "    gtPerPrediction = [get_unique_overlap(predictions, gt, i)\n",
    "                       for i in prediction_uniques]\n",
    "\n",
    "    return {'predictionPerGt': predictionPerGt,\n",
    "            'gtPerPrediction': gtPerPrediction}\n",
    "\n",
    "def graph_performance(absolute=False, *args, **kwds):\n",
    "    \"\"\"\n",
    "    Graphs quantitative performance of an algorithm based on predictions\n",
    "    per ground truth and ground truth per predictions.\n",
    "    If keyword arguments are given, then the label names are taken from\n",
    "    the keywords. If arguments are passed in with no keywords, then the\n",
    "    labels are label_0, label_1, etc.\n",
    "    Parameters\n",
    "    ----------\n",
    "    absolute : boolean, optional\n",
    "        If True, the data will be presented in absolute frequencies instead of\n",
    "        relative frequencies.\n",
    "    args : Arguments\n",
    "        Overlap dictionaries to plot. Since it is not possible to know what each\n",
    "        overlap dictionary refers to, the data will be plotted with labels\n",
    "        \"label_0\", \"label_1\", and so on.\n",
    "    kwds : Keyword Arguments\n",
    "        Overlap dictionaries to plot. Data will be plotted with the keyword labels.\n",
    "    Examples\n",
    "    --------\n",
    "    >>> overlap_1 = compute_overlap_array(predictions_1, gt_1)\n",
    "    >>> overlap_2 = compute_overlap_array(predictions_2, gt_2)\n",
    "    >>> kwds = {'Label One': overlap_1, 'Label Two': overlap_2}\n",
    "    >>> graph_performance(**kwds)\n",
    "    \"\"\"\n",
    "\n",
    "    labeldict = kwds\n",
    "\n",
    "    for i, val in enumerate(args):\n",
    "        key = 'label_%d' % i\n",
    "        if key in labeldict.keys():\n",
    "            raise ValueError(\n",
    "                \"Cannot use un-named variables and keyword %s\" % key)\n",
    "        labeldict[key] = val\n",
    "\n",
    "    labels = list(labeldict.keys())\n",
    "    overlaps = [labeldict[label] for label in labels]\n",
    "\n",
    "    #Global settings\n",
    "    plt.rc(('xtick', 'ytick'), labelsize=14)\n",
    "    plt.rc('axes', titlesize=16, labelsize=14)\n",
    "\n",
    "    #Create fig and ax\n",
    "    fig, ax = plt.subplots(1, 2, figsize=(10, 5.9), sharey=True)\n",
    "\n",
    "    #Titles for figure and two subplots\n",
    "    ax[0].set_title('Number of Predictions Per Synapse')\n",
    "    ax[1].set_title('Number of Synapses Per Prediction')\n",
    "\n",
    "    #Set xaxis tick labels\n",
    "    ax[0].set_xticklabels(['False Negatives', 'Correct', 'Double Counted'])\n",
    "    ax[1].set_xticklabels(['False Positives', 'Correct', 'Merged'])\n",
    "\n",
    "    #Set yaxis label and range accordingly\n",
    "    if not absolute:\n",
    "        ax[0].set_ylabel(\"% of population\")\n",
    "        ax[0].set_ylim(0, 100)\n",
    "    else:\n",
    "        ax[0].set_ylabel(\"Total number\")\n",
    "\n",
    "    #Plot stuff\n",
    "    for i, label in enumerate(labels):\n",
    "        #Graphing settings\n",
    "        width = 0.8 / len(labels)\n",
    "        offset = np.arange(0, width * len(labels), width)\n",
    "\n",
    "        for j, key in enumerate(['predictionPerGt', 'gtPerPrediction']):\n",
    "            counts = np.bincount(overlaps[i][key])\n",
    "\n",
    "            #Data validations\n",
    "            if len(counts) == 2:\n",
    "                counts = np.append(counts, [0])\n",
    "            elif len(counts) > 3:\n",
    "                counts = np.append(counts[0:2], [np.sum(counts[2:])])\n",
    "\n",
    "            if not absolute:\n",
    "                data = [x / sum(counts) * 100 for x in counts]\n",
    "            else:\n",
    "                data = counts\n",
    "\n",
    "            ax[j].bar(np.arange(3) + offset[i], data,\n",
    "                      width=width, align='edge', label=label)\n",
    "            ax[j].set(xticks=np.arange(3) + .4)\n",
    "\n",
    "    #Finishing touches\n",
    "    fig.tight_layout()\n",
    "    plt.legend()\n",
    "\n",
    "    return fig"
   ]
  },
  {
   "cell_type": "code",
   "execution_count": 3,
   "metadata": {
    "collapsed": true
   },
   "outputs": [],
   "source": [
    "a =  tiff.imread(f)"
   ]
  },
  {
   "cell_type": "code",
   "execution_count": 4,
   "metadata": {},
   "outputs": [
    {
     "data": {
      "text/plain": [
       "(49, 4288, 4160)"
      ]
     },
     "execution_count": 4,
     "metadata": {},
     "output_type": "execute_result"
    }
   ],
   "source": [
    "a.shape"
   ]
  },
  {
   "cell_type": "code",
   "execution_count": 5,
   "metadata": {
    "collapsed": true
   },
   "outputs": [],
   "source": [
    "base = \"collman_M247514_Rorb_1_Site3Align2_EM_m247514_Site3Annotation_MN_global_x5961-10121_y4891-9179_z\""
   ]
  },
  {
   "cell_type": "code",
   "execution_count": 6,
   "metadata": {
    "collapsed": true
   },
   "outputs": [],
   "source": [
    "b = [base + str(i).zfill(2) + \".tif\" for i in range(49)]"
   ]
  },
  {
   "cell_type": "code",
   "execution_count": 7,
   "metadata": {},
   "outputs": [
    {
     "data": {
      "text/plain": [
       "49"
      ]
     },
     "execution_count": 7,
     "metadata": {},
     "output_type": "execute_result"
    }
   ],
   "source": [
    "ai = [tiff.imread(b[i]) for i in range(len(b))]\n",
    "tmp = np.stack(ai)\n",
    "ai  = tmp.astype(np.int)\n",
    "len(ai)"
   ]
  },
  {
   "cell_type": "code",
   "execution_count": 8,
   "metadata": {
    "collapsed": true
   },
   "outputs": [],
   "source": [
    "aReduced =  a[:, slice(133, 4155), slice(133, 4027)]\n",
    "aiReduced = ai[:, slice(133, 4155), slice(133, 4027)]"
   ]
  },
  {
   "cell_type": "code",
   "execution_count": 9,
   "metadata": {
    "collapsed": true
   },
   "outputs": [],
   "source": [
    "out_pred = compute_overlap_array(a, ai)"
   ]
  },
  {
   "cell_type": "code",
   "execution_count": 10,
   "metadata": {
    "collapsed": true
   },
   "outputs": [],
   "source": [
    "out_predReduced = compute_overlap_array(aReduced, aiReduced)"
   ]
  },
  {
   "cell_type": "code",
   "execution_count": 11,
   "metadata": {},
   "outputs": [
    {
     "data": {
      "image/png": "[encoded data removed]",
      "text/plain": [
       "<matplotlib.figure.Figure at 0x113e24940>"
      ]
     },
     "execution_count": 11,
     "metadata": {},
     "output_type": "execute_result"
    }
   ],
   "source": [
    "kwds = {'Non-Buffered': out_pred, 'Buffered 400nm': out_predReduced}\n",
    "graph_performance(True, **kwds)"
   ]
  },
  {
   "cell_type": "code",
   "execution_count": 12,
   "metadata": {},
   "outputs": [
    {
     "data": {
      "image/png": "[encoded data removed]",
      "text/plain": [
       "<matplotlib.figure.Figure at 0x113e247b8>"
      ]
     },
     "execution_count": 12,
     "metadata": {},
     "output_type": "execute_result"
    }
   ],
   "source": [
    "graph_performance(False, **kwds)"
   ]
  },
  {
   "cell_type": "code",
   "execution_count": null,
   "metadata": {
    "collapsed": true
   },
   "outputs": [],
   "source": []
  },
  {
   "cell_type": "code",
   "execution_count": null,
   "metadata": {
    "collapsed": true
   },
   "outputs": [],
   "source": [
    "plt.imshow(ai[0][slice(500, 1000), slice(500, 1000)])\n",
    "plt.show()"
   ]
  },
  {
   "cell_type": "code",
   "execution_count": null,
   "metadata": {
    "collapsed": true
   },
   "outputs": [],
   "source": [
    "plt.imshow(a[1,:,:])\n",
    "plt.show()"
   ]
  },
  {
   "cell_type": "code",
   "execution_count": null,
   "metadata": {
    "collapsed": true
   },
   "outputs": [],
   "source": [
    "tmp = label(a)"
   ]
  },
  {
   "cell_type": "code",
   "execution_count": null,
   "metadata": {
    "collapsed": true
   },
   "outputs": [],
   "source": [
    "plt.imshow(tmp[14, :, :])\n",
    "plt.show()"
   ]
  },
  {
   "cell_type": "code",
   "execution_count": null,
   "metadata": {
    "collapsed": true
   },
   "outputs": [],
   "source": []
  },
  {
   "cell_type": "code",
   "execution_count": null,
   "metadata": {
    "collapsed": true
   },
   "outputs": [],
   "source": []
  },
  {
   "cell_type": "code",
   "execution_count": null,
   "metadata": {
    "collapsed": true
   },
   "outputs": [],
   "source": []
  },
  {
   "cell_type": "code",
   "execution_count": null,
   "metadata": {
    "collapsed": true
   },
   "outputs": [],
   "source": []
  },
  {
   "cell_type": "code",
   "execution_count": null,
   "metadata": {
    "collapsed": true
   },
   "outputs": [],
   "source": []
  }
 ],
 "metadata": {
  "kernelspec": {
   "display_name": "Python 3",
   "language": "python",
   "name": "python3"
  },
  "language_info": {
   "codemirror_mode": {
    "name": "ipython",
    "version": 3
   },
   "file_extension": ".py",
   "mimetype": "text/x-python",
   "name": "python",
   "nbconvert_exporter": "python",
   "pygments_lexer": "ipython3",
   "version": "3.6.1"
  }
 },
 "nbformat": 4,
 "nbformat_minor": 2
}
