{
 "cells": [
  {
   "cell_type": "code",
   "execution_count": 13,
   "metadata": {
    "collapsed": true
   },
   "outputs": [],
   "source": [
    "from intern.remote.boss import BossRemote\n",
    "from intern.resource.boss.resource import *\n",
    "from intern.utils.parallel import block_compute\n",
    "from requests import HTTPError\n",
    "import h5py\n",
    "import numpy as np\n",
    "\n",
    "rmt = BossRemote('config.ini')"
   ]
  },
  {
   "cell_type": "code",
   "execution_count": 54,
   "metadata": {
    "collapsed": true
   },
   "outputs": [],
   "source": [
    "#chan = rmt.list_channels(\"collman\", \"collman14v2\")\n",
    "#chres = ChannelResource(\"annotation\",\"collman\",\"collman14v2\",'annotation',datatype='uint64')\n",
    "#exres = ExperimentResource(\"collman\", \"collman14v2\")\n",
    "#cf = CoordinateFrameResource(\"collman_collman14v2\")\n",
    "#cfr = rmt.get_project(cf)\n",
    "\n",
    "#chan = rmt.list_channels(\"collman\", \"collman15v2\")\n",
    "#chres = ChannelResource(\"annotation\",\"collman\",\"collman15v2\",'annotation',datatype='uint64')\n",
    "#exres = ExperimentResource(\"collman\", \"collman15v2\")\n",
    "#cf = CoordinateFrameResource(\"collman_collman15v2\")\n",
    "#cfr = rmt.get_project(cf)\n",
    "\n",
    "#chan = rmt.list_channels(\"kharris15\", \"apical\")\n",
    "#chres = ChannelResource(\"anno\",\"kharris15\",\"apical\",'annotation',datatype='uint64')\n",
    "#exres = ExperimentResource(\"kharris15\", \"anno\")\n",
    "#cf = CoordinateFrameResource(\"kharris15apical\")\n",
    "#cfr = rmt.get_project(cf)\n",
    "\n",
    "chan = rmt.list_channels(\"collman\", \"M247514_Rorb_1_Site3Align2_LENS_Session1_CROP\")\n",
    "#chres = ChannelResource(\"annotation\",\"collman\",\"collman14v2\",'annotation',datatype='uint64')\n",
    "exres = ExperimentResource(\"collman\", \"M247514_Rorb_1_Site3Align2_LENS_Session1_CROP\")\n",
    "cf = CoordinateFrameResource(\"collman_M247514_Rorb_1_Site3Align2_LENS_Session1_CROP\")\n",
    "cfr = rmt.get_project(cf)\n",
    "\n",
    "chName = \"nomads-classifier_collman_M247514_Rorb_1_light_z_0_101_y_8800_9200_x_4500_4900_All_segmented\"\n",
    "chres = ChannelResource(chName,\"collman_nomads\",\"nomads_predictions\",'annotation',datatype='uint64')\n",
    "\n",
    "cf = CoordinateFrameResource(\"collman_nomads_nomads_predictions_nomads-classifier_collman_M247514_Rorb_1_light_z_0_101_y_8800_9200_x_4500_4900_All_segmented\")\n",
    "cf = CoordinateFrameResource(\"collman_M247514_Rorb_1_light\")\n",
    "cfr = rmt.get_project(cf)"
   ]
  },
  {
   "cell_type": "code",
   "execution_count": null,
   "metadata": {
    "collapsed": true
   },
   "outputs": [],
   "source": []
  },
  {
   "cell_type": "code",
   "execution_count": 86,
   "metadata": {},
   "outputs": [
    {
     "data": {
      "text/plain": [
       "{'x': 14215, 'y': 11123, 'z': 101}"
      ]
     },
     "execution_count": 86,
     "metadata": {},
     "output_type": "execute_result"
    }
   ],
   "source": [
    "ex = {\"x\": cfr.x_stop, \"y\": cfr.y_stop, \"z\": cfr.z_stop}\n",
    "#ex = {\"x\": 5000, \"y\": 9300, \"z\": cfr.z_stop}\n",
    "ex"
   ]
  },
  {
   "cell_type": "code",
   "execution_count": 136,
   "metadata": {},
   "outputs": [
    {
     "data": {
      "text/plain": [
       "154"
      ]
     },
     "execution_count": 136,
     "metadata": {},
     "output_type": "execute_result"
    }
   ],
   "source": [
    "blocks = block_compute(0,ex['x'],0,ex['y'],0,ex['z'], \\\n",
    "               origin = (0,0,0), block_size = (1024, 1024, 101))\n",
    "               #origin = (0,0,0), block_size = (512, 512, 16))\n",
    "    \n",
    "    \n",
    "    \n",
    "len(blocks)"
   ]
  },
  {
   "cell_type": "code",
   "execution_count": 137,
   "metadata": {
    "collapsed": true
   },
   "outputs": [],
   "source": [
    "rid = []\n",
    "for b in blocks:\n",
    "    rid = rid + rmt.get_ids_in_region(chres, 0, b[0], b[1], b[2], [0,1])"
   ]
  },
  {
   "cell_type": "code",
   "execution_count": 154,
   "metadata": {},
   "outputs": [
    {
     "ename": "HTTPError",
     "evalue": "Get bounding box failed on nomads-classifier_collman_M247514_Rorb_1_light_z_0_101_y_8800_9200_x_4500_4900_All_segmented, got HTTP response: (500) - <h1>Server Error (500)</h1>",
     "output_type": "error",
     "traceback": [
      "\u001b[0;31m---------------------------------------------------------------------------\u001b[0m",
      "\u001b[0;31mHTTPError\u001b[0m                                 Traceback (most recent call last)",
      "\u001b[0;32m<ipython-input-154-895aa5fc695f>\u001b[0m in \u001b[0;36m<module>\u001b[0;34m()\u001b[0m\n\u001b[1;32m      1\u001b[0m \u001b[0mrid1\u001b[0m \u001b[0;34m=\u001b[0m \u001b[0mrmt\u001b[0m\u001b[0;34m.\u001b[0m\u001b[0mget_ids_in_region\u001b[0m\u001b[0;34m(\u001b[0m\u001b[0mchres\u001b[0m\u001b[0;34m,\u001b[0m \u001b[0;36m0\u001b[0m\u001b[0;34m,\u001b[0m \u001b[0;34m(\u001b[0m\u001b[0;36m0\u001b[0m\u001b[0;34m,\u001b[0m \u001b[0;36m14215\u001b[0m\u001b[0;34m)\u001b[0m\u001b[0;34m,\u001b[0m \u001b[0;34m(\u001b[0m\u001b[0;36m0\u001b[0m\u001b[0;34m,\u001b[0m \u001b[0;36m11123\u001b[0m\u001b[0;34m)\u001b[0m\u001b[0;34m,\u001b[0m \u001b[0;34m(\u001b[0m\u001b[0;36m0\u001b[0m\u001b[0;34m,\u001b[0m \u001b[0;36m49\u001b[0m\u001b[0;34m)\u001b[0m\u001b[0;34m,\u001b[0m \u001b[0;34m[\u001b[0m\u001b[0;36m0\u001b[0m\u001b[0;34m,\u001b[0m\u001b[0;36m1\u001b[0m\u001b[0;34m]\u001b[0m\u001b[0;34m)\u001b[0m\u001b[0;34m\u001b[0m\u001b[0m\n\u001b[0;32m----> 2\u001b[0;31m \u001b[0mrid2\u001b[0m \u001b[0;34m=\u001b[0m \u001b[0mrmt\u001b[0m\u001b[0;34m.\u001b[0m\u001b[0mget_ids_in_region\u001b[0m\u001b[0;34m(\u001b[0m\u001b[0mchres\u001b[0m\u001b[0;34m,\u001b[0m \u001b[0;36m0\u001b[0m\u001b[0;34m,\u001b[0m \u001b[0;34m(\u001b[0m\u001b[0;36m0\u001b[0m\u001b[0;34m,\u001b[0m \u001b[0;36m14215\u001b[0m\u001b[0;34m)\u001b[0m\u001b[0;34m,\u001b[0m \u001b[0;34m(\u001b[0m\u001b[0;36m0\u001b[0m\u001b[0;34m,\u001b[0m \u001b[0;36m11123\u001b[0m\u001b[0;34m)\u001b[0m\u001b[0;34m,\u001b[0m \u001b[0;34m(\u001b[0m\u001b[0;36m50\u001b[0m\u001b[0;34m,\u001b[0m \u001b[0;36m90\u001b[0m\u001b[0;34m)\u001b[0m\u001b[0;34m,\u001b[0m \u001b[0;34m[\u001b[0m\u001b[0;36m0\u001b[0m\u001b[0;34m,\u001b[0m\u001b[0;36m1\u001b[0m\u001b[0;34m]\u001b[0m\u001b[0;34m)\u001b[0m\u001b[0;34m\u001b[0m\u001b[0m\n\u001b[0m\u001b[1;32m      3\u001b[0m \u001b[0mlen\u001b[0m\u001b[0;34m(\u001b[0m\u001b[0mrid1\u001b[0m\u001b[0;34m)\u001b[0m\u001b[0;34m\u001b[0m\u001b[0m\n\u001b[1;32m      4\u001b[0m \u001b[0mlen\u001b[0m\u001b[0;34m(\u001b[0m\u001b[0mrid2\u001b[0m\u001b[0;34m)\u001b[0m\u001b[0;34m\u001b[0m\u001b[0m\n",
      "\u001b[0;32m/Library/Frameworks/Python.framework/Versions/3.6/lib/python3.6/site-packages/intern/remote/remote.py\u001b[0m in \u001b[0;36mget_ids_in_region\u001b[0;34m(self, resource, resolution, x_range, y_range, z_range, time_range)\u001b[0m\n\u001b[1;32m    234\u001b[0m         \"\"\"\n\u001b[1;32m    235\u001b[0m         return self._volume.get_ids_in_region(\n\u001b[0;32m--> 236\u001b[0;31m             resource, resolution, x_range, y_range, z_range, time_range)\n\u001b[0m",
      "\u001b[0;32m/Library/Frameworks/Python.framework/Versions/3.6/lib/python3.6/site-packages/intern/service/boss/volume.py\u001b[0m in \u001b[0;36mwrapper\u001b[0;34m(*args, **kwargs)\u001b[0m\n\u001b[1;32m     35\u001b[0m                     'ChannelResource not fully initialized.  Use intern.remote.BossRemote.get_channel({}, {}, {})'.format(\n\u001b[1;32m     36\u001b[0m                         args[1].name, args[1].coll_name, args[1].exp_name))\n\u001b[0;32m---> 37\u001b[0;31m         \u001b[0;32mreturn\u001b[0m \u001b[0mfcn\u001b[0m\u001b[0;34m(\u001b[0m\u001b[0;34m*\u001b[0m\u001b[0margs\u001b[0m\u001b[0;34m,\u001b[0m \u001b[0;34m**\u001b[0m\u001b[0mkwargs\u001b[0m\u001b[0;34m)\u001b[0m\u001b[0;34m\u001b[0m\u001b[0m\n\u001b[0m\u001b[1;32m     38\u001b[0m \u001b[0;34m\u001b[0m\u001b[0m\n\u001b[1;32m     39\u001b[0m     \u001b[0;32mreturn\u001b[0m \u001b[0mwrapper\u001b[0m\u001b[0;34m\u001b[0m\u001b[0m\n",
      "\u001b[0;32m/Library/Frameworks/Python.framework/Versions/3.6/lib/python3.6/site-packages/intern/service/boss/volume.py\u001b[0m in \u001b[0;36mget_ids_in_region\u001b[0;34m(self, resource, resolution, x_range, y_range, z_range, time_range)\u001b[0m\n\u001b[1;32m    163\u001b[0m         return self.service.get_ids_in_region(\n\u001b[1;32m    164\u001b[0m             \u001b[0mresource\u001b[0m\u001b[0;34m,\u001b[0m \u001b[0mresolution\u001b[0m\u001b[0;34m,\u001b[0m \u001b[0mx_range\u001b[0m\u001b[0;34m,\u001b[0m \u001b[0my_range\u001b[0m\u001b[0;34m,\u001b[0m \u001b[0mz_range\u001b[0m\u001b[0;34m,\u001b[0m \u001b[0mtime_range\u001b[0m\u001b[0;34m,\u001b[0m\u001b[0;34m\u001b[0m\u001b[0m\n\u001b[0;32m--> 165\u001b[0;31m             self.url_prefix, self.auth, self.session, self.session_send_opts)\n\u001b[0m\u001b[1;32m    166\u001b[0m \u001b[0;34m\u001b[0m\u001b[0m\n",
      "\u001b[0;32m/Library/Frameworks/Python.framework/Versions/3.6/lib/python3.6/site-packages/intern/service/boss/v1/volume.py\u001b[0m in \u001b[0;36mget_ids_in_region\u001b[0;34m(self, resource, resolution, x_range, y_range, z_range, time_range, url_prefix, auth, session, send_opts)\u001b[0m\n\u001b[1;32m    316\u001b[0m         msg = ('Get bounding box failed on {}, got HTTP response: ({}) - {}'.format(\n\u001b[1;32m    317\u001b[0m             resource.name, resp.status_code, resp.text))\n\u001b[0;32m--> 318\u001b[0;31m         \u001b[0;32mraise\u001b[0m \u001b[0mHTTPError\u001b[0m\u001b[0;34m(\u001b[0m\u001b[0mmsg\u001b[0m\u001b[0;34m,\u001b[0m \u001b[0mrequest\u001b[0m\u001b[0;34m=\u001b[0m\u001b[0mreq\u001b[0m\u001b[0;34m,\u001b[0m \u001b[0mresponse\u001b[0m\u001b[0;34m=\u001b[0m\u001b[0mresp\u001b[0m\u001b[0;34m)\u001b[0m\u001b[0;34m\u001b[0m\u001b[0m\n\u001b[0m",
      "\u001b[0;31mHTTPError\u001b[0m: Get bounding box failed on nomads-classifier_collman_M247514_Rorb_1_light_z_0_101_y_8800_9200_x_4500_4900_All_segmented, got HTTP response: (500) - <h1>Server Error (500)</h1>"
     ]
    }
   ],
   "source": [
    "rid1 = rmt.get_ids_in_region(chres, 0, (0, 14215), (0, 11123), (0, 49), [0,1])\n",
    "rid2 = rmt.get_ids_in_region(chres, 0, (0, 14215), (0, 11123), (50, 90), [0,1])\n",
    "len(rid1)\n",
    "len(rid2)"
   ]
  },
  {
   "cell_type": "code",
   "execution_count": 63,
   "metadata": {},
   "outputs": [
    {
     "data": {
      "text/plain": [
       "[]"
      ]
     },
     "execution_count": 63,
     "metadata": {},
     "output_type": "execute_result"
    }
   ],
   "source": [
    "k = 4\n",
    "ids = rmt.get_ids_in_region(chres, resolution = 0, \n",
    "                            x_range = [blocks[k][0][0],blocks[k][0][1]], \n",
    "                            y_range = [blocks[k][1][0],blocks[k][1][1]], \n",
    "                            z_range = [blocks[k][2][0],blocks[k][2][1]])\n",
    "ids"
   ]
  },
  {
   "cell_type": "code",
   "execution_count": 144,
   "metadata": {},
   "outputs": [
    {
     "data": {
      "text/plain": [
       "((4096, 5120), (8192, 9216), (0, 101))"
      ]
     },
     "execution_count": 144,
     "metadata": {},
     "output_type": "execute_result"
    }
   ],
   "source": [
    "blocks[40]"
   ]
  },
  {
   "cell_type": "code",
   "execution_count": null,
   "metadata": {
    "collapsed": true
   },
   "outputs": [],
   "source": []
  },
  {
   "cell_type": "code",
   "execution_count": null,
   "metadata": {
    "collapsed": true
   },
   "outputs": [],
   "source": []
  },
  {
   "cell_type": "code",
   "execution_count": null,
   "metadata": {
    "collapsed": true
   },
   "outputs": [],
   "source": []
  },
  {
   "cell_type": "code",
   "execution_count": null,
   "metadata": {
    "collapsed": true
   },
   "outputs": [],
   "source": []
  }
 ],
 "metadata": {
  "kernelspec": {
   "display_name": "Python 3",
   "language": "python",
   "name": "python3"
  },
  "language_info": {
   "codemirror_mode": {
    "name": "ipython",
    "version": 3
   },
   "file_extension": ".py",
   "mimetype": "text/x-python",
   "name": "python",
   "nbconvert_exporter": "python",
   "pygments_lexer": "ipython3",
   "version": "3.6.1"
  }
 },
 "nbformat": 4,
 "nbformat_minor": 2
}
