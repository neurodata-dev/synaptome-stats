{
 "cells": [
  {
   "cell_type": "code",
   "execution_count": 25,
   "metadata": {
    "collapsed": true
   },
   "outputs": [],
   "source": [
    "import argparse\n",
    "from intern.remote.boss import BossRemote\n",
    "from intern.resource.boss.resource import *\n",
    "from intern.utils.parallel import block_compute\n",
    "import configparser\n",
    "import requests\n",
    "import numpy as np\n",
    "from numpy import genfromtxt\n",
    "import shutil\n",
    "import blosc\n",
    "from IPython.core.debugger import set_trace\n",
    "import sys\n",
    "import os\n",
    "import itertools\n",
    "from functools import partial\n",
    "from multiprocessing import Pool\n",
    "from multiprocessing.dummy import Pool as ThreadPool\n",
    "from multiprocessing import cpu_count\n",
    "import csv\n",
    "import datetime\n",
    "import seaborn as sns\n",
    "from intern.utils.parallel import block_compute\n",
    "%matplotlib inline\n",
    "import matplotlib\n",
    "import numpy as np\n",
    "import matplotlib.pyplot as plt\n",
    "import ndpull\n",
    "CONFIG_FILE = 'config.ini'"
   ]
  },
  {
   "cell_type": "code",
   "execution_count": 37,
   "metadata": {
    "collapsed": true
   },
   "outputs": [],
   "source": [
    "COLL_NAME      = 'collman_nomads' \n",
    "EXP_NAME       = 'nomads_predictions'\n",
    "CH_NAME        = 'M247514_Rorb_1_light_z_0_101_y_8800_9200_x_4500_4900_All'\n",
    "CONFIG_FILE    = 'config.ini'\n",
    "\n"
   ]
  },
  {
   "cell_type": "code",
   "execution_count": 39,
   "metadata": {},
   "outputs": [],
   "source": [
    "config = configparser.ConfigParser()\n",
    "config.read(CONFIG_FILE)\n",
    "TOKEN = config['Default']['token']\n",
    "boss_url = ''.join( ( config['Default']['protocol'],'://',config['Default']['host'],'/v1/' ) )\n",
    "#intern\n",
    "rem = BossRemote(CONFIG_FILE)\n",
    "\n",
    "ch_res = ChannelResource(CH_NAME, COLL_NAME, EXP_NAME, 'image', datatype='uint16')\n",
    "                                                                                                     "
   ]
  },
  {
   "cell_type": "code",
   "execution_count": 40,
   "metadata": {},
   "outputs": [
    {
     "ename": "HTTPErrorList",
     "evalue": "(HTTPErrorList(...), 'At least one key-value update failed.')\n\tGet failed on M247514_Rorb_1_light_z_0_101_y_8800_9200_x_4500_4900_All, got HTTP response: (404) - {\"status\": 404, \"code\": 4000, \"message\": \"Channel M247514_Rorb_1_light_z_0_101_y_8800_9200_x_4500_4900_All not found\"}",
     "output_type": "error",
     "traceback": [
      "\u001b[0;31m---------------------------------------------------------------------------\u001b[0m",
      "\u001b[0;31mHTTPErrorList\u001b[0m                             Traceback (most recent call last)",
      "\u001b[0;32m<ipython-input-40-ca0ebecbe4cc>\u001b[0m in \u001b[0;36m<module>\u001b[0;34m()\u001b[0m\n\u001b[0;32m----> 1\u001b[0;31m \u001b[0mrem\u001b[0m\u001b[0;34m.\u001b[0m\u001b[0mget_metadata\u001b[0m\u001b[0;34m(\u001b[0m\u001b[0mch_res\u001b[0m\u001b[0;34m,\u001b[0m\u001b[0;34m[\u001b[0m\u001b[0;34m'test'\u001b[0m\u001b[0;34m]\u001b[0m\u001b[0;34m)\u001b[0m\u001b[0;34m\u001b[0m\u001b[0m\n\u001b[0m",
      "\u001b[0;32m/Library/Frameworks/Python.framework/Versions/3.6/lib/python3.6/site-packages/intern/remote/boss/remote.py\u001b[0m in \u001b[0;36mget_metadata\u001b[0;34m(self, resource, keys)\u001b[0m\n\u001b[1;32m    815\u001b[0m         \"\"\"\n\u001b[1;32m    816\u001b[0m         \u001b[0mself\u001b[0m\u001b[0;34m.\u001b[0m\u001b[0mmetadata_service\u001b[0m\u001b[0;34m.\u001b[0m\u001b[0mset_auth\u001b[0m\u001b[0;34m(\u001b[0m\u001b[0mself\u001b[0m\u001b[0;34m.\u001b[0m\u001b[0m_token_metadata\u001b[0m\u001b[0;34m)\u001b[0m\u001b[0;34m\u001b[0m\u001b[0m\n\u001b[0;32m--> 817\u001b[0;31m         \u001b[0;32mreturn\u001b[0m \u001b[0mself\u001b[0m\u001b[0;34m.\u001b[0m\u001b[0mmetadata_service\u001b[0m\u001b[0;34m.\u001b[0m\u001b[0mget\u001b[0m\u001b[0;34m(\u001b[0m\u001b[0mresource\u001b[0m\u001b[0;34m,\u001b[0m \u001b[0mkeys\u001b[0m\u001b[0;34m)\u001b[0m\u001b[0;34m\u001b[0m\u001b[0m\n\u001b[0m\u001b[1;32m    818\u001b[0m \u001b[0;34m\u001b[0m\u001b[0m\n\u001b[1;32m    819\u001b[0m     \u001b[0;32mdef\u001b[0m \u001b[0mupdate_metadata\u001b[0m\u001b[0;34m(\u001b[0m\u001b[0mself\u001b[0m\u001b[0;34m,\u001b[0m \u001b[0mresource\u001b[0m\u001b[0;34m,\u001b[0m \u001b[0mkeys_vals\u001b[0m\u001b[0;34m)\u001b[0m\u001b[0;34m:\u001b[0m\u001b[0;34m\u001b[0m\u001b[0m\n",
      "\u001b[0;32m/Library/Frameworks/Python.framework/Versions/3.6/lib/python3.6/site-packages/intern/service/boss/metadata.py\u001b[0m in \u001b[0;36mget\u001b[0;34m(self, resource, keys)\u001b[0m\n\u001b[1;32m     85\u001b[0m         return self.service.get(\n\u001b[1;32m     86\u001b[0m             \u001b[0mresource\u001b[0m\u001b[0;34m,\u001b[0m \u001b[0mkeys\u001b[0m\u001b[0;34m,\u001b[0m \u001b[0mself\u001b[0m\u001b[0;34m.\u001b[0m\u001b[0murl_prefix\u001b[0m\u001b[0;34m,\u001b[0m \u001b[0mself\u001b[0m\u001b[0;34m.\u001b[0m\u001b[0mauth\u001b[0m\u001b[0;34m,\u001b[0m \u001b[0mself\u001b[0m\u001b[0;34m.\u001b[0m\u001b[0msession\u001b[0m\u001b[0;34m,\u001b[0m\u001b[0;34m\u001b[0m\u001b[0m\n\u001b[0;32m---> 87\u001b[0;31m             self.session_send_opts)\n\u001b[0m\u001b[1;32m     88\u001b[0m \u001b[0;34m\u001b[0m\u001b[0m\n\u001b[1;32m     89\u001b[0m     \u001b[0;32mdef\u001b[0m \u001b[0mupdate\u001b[0m\u001b[0;34m(\u001b[0m\u001b[0mself\u001b[0m\u001b[0;34m,\u001b[0m \u001b[0mresource\u001b[0m\u001b[0;34m,\u001b[0m \u001b[0mkeys_vals\u001b[0m\u001b[0;34m)\u001b[0m\u001b[0;34m:\u001b[0m\u001b[0;34m\u001b[0m\u001b[0m\n",
      "\u001b[0;32m/Library/Frameworks/Python.framework/Versions/3.6/lib/python3.6/site-packages/intern/service/boss/v1/metadata.py\u001b[0m in \u001b[0;36mget\u001b[0;34m(self, resource, keys, url_prefix, auth, session, send_opts)\u001b[0m\n\u001b[1;32m    133\u001b[0m \u001b[0;34m\u001b[0m\u001b[0m\n\u001b[1;32m    134\u001b[0m         \u001b[0;32mif\u001b[0m \u001b[0;32mnot\u001b[0m \u001b[0msuccess\u001b[0m\u001b[0;34m:\u001b[0m\u001b[0;34m\u001b[0m\u001b[0m\n\u001b[0;32m--> 135\u001b[0;31m             \u001b[0;32mraise\u001b[0m \u001b[0mexc\u001b[0m\u001b[0;34m\u001b[0m\u001b[0m\n\u001b[0m\u001b[1;32m    136\u001b[0m \u001b[0;34m\u001b[0m\u001b[0m\n\u001b[1;32m    137\u001b[0m         \u001b[0;32mreturn\u001b[0m \u001b[0mresDict\u001b[0m\u001b[0;34m\u001b[0m\u001b[0m\n",
      "\u001b[0;31mHTTPErrorList\u001b[0m: (HTTPErrorList(...), 'At least one key-value update failed.')\n\tGet failed on M247514_Rorb_1_light_z_0_101_y_8800_9200_x_4500_4900_All, got HTTP response: (404) - {\"status\": 404, \"code\": 4000, \"message\": \"Channel M247514_Rorb_1_light_z_0_101_y_8800_9200_x_4500_4900_All not found\"}"
     ]
    }
   ],
   "source": [
    "rem.get_metadata(ch_res,['test'])"
   ]
  },
  {
   "cell_type": "code",
   "execution_count": 27,
   "metadata": {},
   "outputs": [
    {
     "data": {
      "text/plain": [
       "((512, 1024), (512, 1024), (16, 32))"
      ]
     },
     "execution_count": 27,
     "metadata": {},
     "output_type": "execute_result"
    }
   ],
   "source": [
    "\n",
    "cf = CoordinateFrameResource(str(COLL_NAME + '_' + EXP_NAME))\n",
    "cfr = rem.get_project(cf)\n",
    "anno_res = ChannelResource(ANNO_NAME, COLL_NAME, EXP_NAME, 'annotation', datatype='uint64')\n",
    "\n",
    "ex = {'x': cfr.x_stop, 'y': cfr.y_stop, 'z': cfr.z_stop}\n",
    "\n",
    "blocks = block_compute(0,ex['x'],0,ex['y'],0,ex['z'],\n",
    "           origin = (0,0,0), block_size = (512, 512, 16))\n",
    "                                                                                                     \n",
    "rid = []\n",
    "for b in blocks:\n",
    "    tmp = rem.get_ids_in_region(anno_res, 0, b[0], b[1], b[2], [0,1])\n",
    "    if tmp != []:\n",
    "        rid = rid + tmp\n",
    "                                                                                                     \n",
    "u = np.unique(np.asarray(rid))\n",
    "u_old = u\n",
    "                                                                                                     \n",
    "## bounding box for annotation_i\n",
    "bb = [rem.get_bounding_box(anno_res, 0,ui, 'tight') for ui in u]\n",
    "                                                                                                     \n",
    "for i in range(len(bb)):\n",
    "    bb[i][\"id\"] = u[i]\n",
    "\n",
    "blocks[0]\n",
    "b0 = ((0, ))"
   ]
  },
  {
   "cell_type": "code",
   "execution_count": 15,
   "metadata": {
    "collapsed": true
   },
   "outputs": [],
   "source": [
    "A = [(rem.get_cutout(\n",
    "      anno_res, 0, bb[i][\"x_range\"], \n",
    "      bb[i][\"y_range\"], bb[i][\"z_range\"], \n",
    "      id_list = [bb[i]['id']]) == bb[i]['id']).astype(int) \n",
    "    for i in range(len(bb))] \n",
    "                                                                                                     \n",
    "#Bmeans = [np.int32(np.round(np.mean(np.asarray(np.where(A[i] == True)),1))) for i in range(len(A))]\n",
    "Bmeans = [np.uint32(np.round(np.mean(np.asarray(np.where(A[i] == 1)),1))) for i in range(len(A))]\n",
    "\n",
    "Bglobal = []\n",
    "for i in range(len(bb)):\n",
    "    ad1 = np.asarray([bb[i]['z_range'][0], bb[i]['y_range'][0], bb[i]['x_range'][0]])\n",
    "    Bglobal.append(Bmeans[i] + ad1)\n",
    "    \n",
    "ColMin = np.asarray(bf)\n",
    "ColMax = np.asarray([ex['z'] - (bf[0] + 1),  # The z index is inclusive\n",
    "                     ex['y'] - (bf[1] + 1), \n",
    "                     ex['x'] - (bf[2] + 1)])\n",
    "                                                                                                     \n",
    "m = [Bglobal[i] >= ColMin for i in range(len(Bglobal))]\n",
    "M = [Bglobal[i] <= ColMax for i in range(len(Bglobal))]\n",
    "mm = [np.all(m[i]) for i in range(len(m)) ]\n",
    "MM = [np.all(M[i]) for i in range(len(M)) ]\n",
    "                                                                                                     \n",
    "                                                                                                     "
   ]
  },
  {
   "cell_type": "code",
   "execution_count": 18,
   "metadata": {},
   "outputs": [
    {
     "data": {
      "text/plain": [
       "(2, 65, 49)"
      ]
     },
     "execution_count": 18,
     "metadata": {},
     "output_type": "execute_result"
    }
   ],
   "source": [
    "A[0].shape"
   ]
  },
  {
   "cell_type": "code",
   "execution_count": 20,
   "metadata": {},
   "outputs": [
    {
     "data": {
      "text/plain": [
       "array([  12, 1026,  882])"
      ]
     },
     "execution_count": 20,
     "metadata": {},
     "output_type": "execute_result"
    }
   ],
   "source": [
    "Bglobal[0]"
   ]
  },
  {
   "cell_type": "code",
   "execution_count": null,
   "metadata": {
    "collapsed": true
   },
   "outputs": [],
   "source": []
  }
 ],
 "metadata": {
  "kernelspec": {
   "display_name": "Python 3",
   "language": "python",
   "name": "python3"
  },
  "language_info": {
   "codemirror_mode": {
    "name": "ipython",
    "version": 3
   },
   "file_extension": ".py",
   "mimetype": "text/x-python",
   "name": "python",
   "nbconvert_exporter": "python",
   "pygments_lexer": "ipython3",
   "version": "3.6.1"
  }
 },
 "nbformat": 4,
 "nbformat_minor": 2
}
