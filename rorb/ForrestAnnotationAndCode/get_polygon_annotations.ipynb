{
 "cells": [
  {
   "cell_type": "code",
   "execution_count": 1,
   "metadata": {
    "collapsed": true
   },
   "outputs": [],
   "source": [
    "import json\n",
    "import numpy as np\n",
    "import matplotlib.pyplot as plt\n",
    "from mpl_toolkits.mplot3d import Axes3D\n",
    "import cv2"
   ]
  },
  {
   "cell_type": "code",
   "execution_count": 2,
   "metadata": {
    "collapsed": true
   },
   "outputs": [],
   "source": [
    "jf = \"m247514_Site3Annotation_MN_global.json\""
   ]
  },
  {
   "cell_type": "code",
   "execution_count": 3,
   "metadata": {
    "collapsed": true
   },
   "outputs": [],
   "source": [
    "with open(\"m247514_Site3Annotation_MN_global.json\") as jd:\n",
    "    d = json.load(jd)"
   ]
  },
  {
   "cell_type": "markdown",
   "metadata": {},
   "source": [
    "# Looking at the first set of points"
   ]
  },
  {
   "cell_type": "code",
   "execution_count": 4,
   "metadata": {
    "collapsed": true
   },
   "outputs": [],
   "source": [
    "al0 = d['area_lists'][0]"
   ]
  },
  {
   "cell_type": "code",
   "execution_count": 5,
   "metadata": {
    "collapsed": true
   },
   "outputs": [],
   "source": [
    "for i in range(len(al0['areas'])):\n",
    "    x = al0['areas'][i]['global_path']"
   ]
  },
  {
   "cell_type": "code",
   "execution_count": 6,
   "metadata": {
    "collapsed": true
   },
   "outputs": [],
   "source": [
    "x = [i[0] for i in al0['areas'][0]['global_path']]\n",
    "y = [i[1] for i in al0['areas'][0]['global_path']]\n",
    "z = [al0['areas'][0]['z'] for i in al0['areas'][0]['global_path']]"
   ]
  },
  {
   "cell_type": "code",
   "execution_count": 7,
   "metadata": {},
   "outputs": [
    {
     "data": {
      "text/plain": [
       "17"
      ]
     },
     "execution_count": 7,
     "metadata": {},
     "output_type": "execute_result"
    }
   ],
   "source": [
    "a1 = d['area_lists'][0]['areas']\n",
    "len(a1)"
   ]
  },
  {
   "cell_type": "code",
   "execution_count": 8,
   "metadata": {},
   "outputs": [
    {
     "data": {
      "image/png": "[encoded data removed]",
      "text/plain": [
       "<matplotlib.figure.Figure at 0x1298cdd30>"
      ]
     },
     "metadata": {},
     "output_type": "display_data"
    }
   ],
   "source": [
    "plt.plot(x, y, 'ro')\n",
    "plt.plot(np.mean(x), np.mean(y), 'ro', color = 'blue')\n",
    "plt.show()"
   ]
  },
  {
   "cell_type": "markdown",
   "metadata": {},
   "source": [
    "# Functions and grabbing all locations"
   ]
  },
  {
   "cell_type": "code",
   "execution_count": 9,
   "metadata": {
    "collapsed": true
   },
   "outputs": [],
   "source": [
    "def colMean(globalPath, z):\n",
    "    x = np.mean([i[0] for i in globalPath])\n",
    "    y = np.mean([i[1] for i in globalPath])\n",
    "    z = np.mean(z)\n",
    "    means = [x,y,z]\n",
    "    return(means)\n",
    "\n",
    "def colMedian(globalPath, z):\n",
    "    x = np.median([i[0] for i in globalPath])\n",
    "    y = np.median([i[1] for i in globalPath])\n",
    "    z = np.median(z)\n",
    "    medians = [x,y,z]\n",
    "    return(medians)"
   ]
  },
  {
   "cell_type": "code",
   "execution_count": 52,
   "metadata": {},
   "outputs": [],
   "source": [
    "am = []\n",
    "ids = []\n",
    "for ai in d['area_lists']:\n",
    "    anno = { 'id': ai['id'], 'ggp': [], 'z': []}\n",
    "    ids.append(ai['id'])\n",
    "    for gp in ai['areas']:\n",
    "        anno['ggp'].extend(gp['global_path'])\n",
    "        anno['z'].append(gp['z'])\n",
    "    am.append([colMean(anno['ggp'], anno['z']), anno['id']])\n",
    "    "
   ]
  },
  {
   "cell_type": "code",
   "execution_count": null,
   "metadata": {},
   "outputs": [],
   "source": []
  },
  {
   "cell_type": "code",
   "execution_count": 34,
   "metadata": {},
   "outputs": [],
   "source": [
    "anno_at = np.asarray(np.round([[(i[0][0]*3)/96, (i[0][1]*3)/96, i[0][2]] for i in am]))\n",
    "anno_em = np.asarray(np.round([[i[0][0], i[0][1], i[0][2]] for i in am]))\n",
    "anno_nm = np.asarray(([[i[0][0]/3, i[0][1]/3, i[0][2]] for i in am]))"
   ]
  },
  {
   "cell_type": "code",
   "execution_count": 55,
   "metadata": {},
   "outputs": [],
   "source": [
    "tmp = anno_at\n",
    "dfg = np.column_stack([tmp,ids])"
   ]
  },
  {
   "cell_type": "markdown",
   "metadata": {},
   "source": [
    "# save locations to csv files"
   ]
  },
  {
   "cell_type": "code",
   "execution_count": 56,
   "metadata": {
    "collapsed": true
   },
   "outputs": [],
   "source": [
    "#a = np.asarray(np.round(am))\n",
    "np.savetxt(\"rorb_locations_nm.csv\", np.column_stack([anno_nm, ids]), delimiter=\",\", fmt = \"%f\")\n",
    "np.savetxt(\"rorb_locations_at.csv\", np.column_stack([anno_at, ids]), delimiter=\",\", fmt = \"%d\")\n",
    "np.savetxt(\"rorb_locations_em.csv\", np.column_stack([anno_em, ids]), delimiter=\",\", fmt = \"%d\")\n"
   ]
  },
  {
   "cell_type": "code",
   "execution_count": null,
   "metadata": {},
   "outputs": [],
   "source": []
  },
  {
   "cell_type": "code",
   "execution_count": null,
   "metadata": {},
   "outputs": [],
   "source": []
  },
  {
   "cell_type": "code",
   "execution_count": null,
   "metadata": {
    "collapsed": true
   },
   "outputs": [],
   "source": []
  }
 ],
 "metadata": {
  "kernelspec": {
   "display_name": "Python 3",
   "language": "python",
   "name": "python3"
  },
  "language_info": {
   "codemirror_mode": {
    "name": "ipython",
    "version": 3
   },
   "file_extension": ".py",
   "mimetype": "text/x-python",
   "name": "python",
   "nbconvert_exporter": "python",
   "pygments_lexer": "ipython3",
   "version": "3.6.1"
  }
 },
 "nbformat": 4,
 "nbformat_minor": 2
}
